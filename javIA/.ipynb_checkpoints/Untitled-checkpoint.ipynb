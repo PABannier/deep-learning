{
 "cells": [
  {
   "cell_type": "code",
   "execution_count": 29,
   "metadata": {},
   "outputs": [],
   "source": [
    "from datasets import *\n",
    "from transforms import *\n",
    "from deeplearner import *"
   ]
  },
  {
   "cell_type": "code",
   "execution_count": 30,
   "metadata": {},
   "outputs": [],
   "source": [
    "train_dir = \"/home/javi/DL/fastai/courses/dl1/data/dogscats/train\"\n",
    "valid_dir = \"/home/javi/DL/fastai/courses/dl1/data/dogscats/valid\""
   ]
  },
  {
   "cell_type": "code",
   "execution_count": 32,
   "metadata": {},
   "outputs": [],
   "source": [
    "train_dataset = ImageFolderDataset(train_dir, train_tfms)\n",
    "valid_dataset = ImageFolderDataset(valid_dir, valid_tfms)"
   ]
  },
  {
   "cell_type": "code",
   "execution_count": 33,
   "metadata": {},
   "outputs": [
    {
     "data": {
      "text/plain": [
       "('/home/javi/DL/fastai/courses/dl1/data/dogscats/train/cats/cat.0.jpg', 0)"
      ]
     },
     "execution_count": 33,
     "metadata": {},
     "output_type": "execute_result"
    }
   ],
   "source": [
    "train_dataset.samples[0]"
   ]
  },
  {
   "cell_type": "code",
   "execution_count": 34,
   "metadata": {},
   "outputs": [
    {
     "data": {
      "text/plain": [
       "(tensor([[[ 1.6667,  1.6324,  1.7009,  ...,  2.2489,  2.2489,  2.2489],\n",
       "          [ 1.7352,  1.6838,  1.6838,  ...,  2.2489,  2.2489,  2.2489],\n",
       "          [ 1.7352,  1.6838,  1.6838,  ...,  2.2489,  2.2489,  2.2489],\n",
       "          ...,\n",
       "          [ 0.8276,  0.7933,  0.6906,  ..., -1.9980, -1.9809, -1.9809],\n",
       "          [ 0.8276,  0.7933,  0.6906,  ..., -2.0665, -2.0665, -2.0665],\n",
       "          [ 0.8276,  0.8104,  0.7077,  ..., -2.1179, -2.1179, -2.1179]],\n",
       " \n",
       "         [[ 1.0630,  1.0280,  1.1155,  ...,  1.9734,  1.9734,  1.9734],\n",
       "          [ 1.1331,  1.0805,  1.0980,  ...,  1.9734,  1.9734,  1.9734],\n",
       "          [ 1.1331,  1.0805,  1.0980,  ...,  2.0084,  2.0084,  2.0084],\n",
       "          ...,\n",
       "          [ 0.3978,  0.3978,  0.3102,  ..., -1.9482, -1.9307, -1.9307],\n",
       "          [ 0.3978,  0.3978,  0.3102,  ..., -2.0182, -2.0007, -2.0007],\n",
       "          [ 0.3978,  0.4153,  0.3277,  ..., -2.0357, -2.0357, -2.0357]],\n",
       " \n",
       "         [[-0.0441, -0.0790, -0.0267,  ...,  0.8971,  0.8971,  0.8971],\n",
       "          [ 0.0256, -0.0267, -0.0441,  ...,  0.8971,  0.8971,  0.8971],\n",
       "          [ 0.0256, -0.0267, -0.0267,  ...,  0.9145,  0.9145,  0.9145],\n",
       "          ...,\n",
       "          [-0.6541, -0.6715, -0.7413,  ..., -1.8044, -1.8044, -1.8044],\n",
       "          [-0.6541, -0.6715, -0.7413,  ..., -1.8044, -1.8044, -1.8044],\n",
       "          [-0.6715, -0.6541, -0.7238,  ..., -1.8044, -1.8044, -1.8044]]]),\n",
       " array([1., 0.]))"
      ]
     },
     "execution_count": 34,
     "metadata": {},
     "output_type": "execute_result"
    }
   ],
   "source": [
    "train_dataset[0]"
   ]
  }
 ],
 "metadata": {
  "kernelspec": {
   "display_name": "Python 3",
   "language": "python",
   "name": "python3"
  },
  "language_info": {
   "codemirror_mode": {
    "name": "ipython",
    "version": 3
   },
   "file_extension": ".py",
   "mimetype": "text/x-python",
   "name": "python",
   "nbconvert_exporter": "python",
   "pygments_lexer": "ipython3",
   "version": "3.6.5"
  }
 },
 "nbformat": 4,
 "nbformat_minor": 2
}
